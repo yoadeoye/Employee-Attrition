{
  "nbformat": 4,
  "nbformat_minor": 0,
  "metadata": {
    "accelerator": "GPU",
    "colab": {
      "name": "Employee Attrition_FE.ipynb",
      "provenance": [],
      "collapsed_sections": [],
      "mount_file_id": "1noy-4iQfcY1Wo9dPgYDtrbQKe4j6bAN0",
      "authorship_tag": "ABX9TyPmmzZBCB5IVZUnUDjjt7It",
      "include_colab_link": true
    },
    "kernelspec": {
      "display_name": "Python 3",
      "name": "python3"
    },
    "language_info": {
      "name": "python"
    }
  },
  "cells": [
    {
      "cell_type": "markdown",
      "metadata": {
        "id": "view-in-github",
        "colab_type": "text"
      },
      "source": [
        "<a href=\"https://colab.research.google.com/github/yoadeoye/Employee-Attrition/blob/main/Employee_Attrition_FE.ipynb\" target=\"_parent\"><img src=\"https://colab.research.google.com/assets/colab-badge.svg\" alt=\"Open In Colab\"/></a>"
      ]
    },
    {
      "cell_type": "code",
      "metadata": {
        "colab": {
          "base_uri": "https://localhost:8080/"
        },
        "id": "o6WjteCJ_p_p",
        "outputId": "abb3eb7e-2735-4c62-d6e0-713dbacd9eab"
      },
      "source": [
        "from google.colab import drive\n",
        "drive.mount('gdrive')"
      ],
      "execution_count": null,
      "outputs": [
        {
          "output_type": "stream",
          "name": "stdout",
          "text": [
            "Drive already mounted at gdrive; to attempt to forcibly remount, call drive.mount(\"gdrive\", force_remount=True).\n"
          ]
        }
      ]
    },
    {
      "cell_type": "markdown",
      "metadata": {
        "id": "4XcPaZo39OCE"
      },
      "source": [
        "\n",
        "**FEATURE SELECTION & ENGINEERING**"
      ]
    },
    {
      "cell_type": "code",
      "metadata": {
        "id": "ThPVg512GQdG",
        "colab": {
          "base_uri": "https://localhost:8080/"
        },
        "outputId": "ac900b61-e588-4fda-e467-ba297c7f692d"
      },
      "source": [
        "# loading the data from excel file\n",
        "import pandas as pd\n",
        "import numpy as np\n",
        "import matplotlib.pyplot as plt\n",
        "import seaborn as sns\n",
        "%matplotlib inline\n",
        "%pylab inline \n",
        "\n",
        "data=pd.ExcelFile('/content/gdrive/MyDrive/Colab Notebooks/Employee Attrition.xlsx')\n",
        "employeesLeft=data.parse('Employees who have left')\n",
        "existingEmployees=data.parse('Existing employees')\n",
        "\n",
        "# dropping duplicates in each dataset\n",
        "employeesLeft.drop_duplicates(inplace=True)\n",
        "existingEmployees.drop_duplicates(inplace=True)\n",
        "\n",
        "#preprocess in each dataset - dropping the unique variables\n",
        "X_full=employeesLeft.drop('Emp ID',axis=1)\n",
        "X_test_full=existingEmployees.drop('Emp ID',axis=1)\n",
        "\n",
        "# choosing the target variable and predictors\n",
        "X=X_full.drop('satisfaction_level',axis=1)\n",
        "y=employeesLeft.satisfaction_level\n",
        "\n",
        "# testdata\n",
        "X_test=X_test_full.drop('satisfaction_level',axis=1)\n",
        "\n",
        "# splitting the training and validation data\n",
        "from sklearn.model_selection import train_test_split\n",
        "X_train,X_valid,y_train,y_valid=train_test_split(X,y,test_size=0.8,random_state=0)\n",
        "\n",
        "#separating the categorical and numerical columns \n",
        "categorical_columns=[col for col in X_train.columns if X_train[col].dtypes=='object']\n",
        "numerical_columns=[col for col in X_train.columns if X_train[col].dtypes in ['int64','float64']]"
      ],
      "execution_count": null,
      "outputs": [
        {
          "output_type": "stream",
          "name": "stdout",
          "text": [
            "Populating the interactive namespace from numpy and matplotlib\n"
          ]
        }
      ]
    },
    {
      "cell_type": "code",
      "metadata": {
        "id": "WLngcEd8PvEk",
        "colab": {
          "base_uri": "https://localhost:8080/"
        },
        "outputId": "eb81c424-2f45-4a12-cec7-79322a1e1823"
      },
      "source": [
        "from sklearn.preprocessing import OrdinalEncoder\n",
        "X_train_plus=X_train[categorical_columns].copy()\n",
        "X_valid_plus=X_valid[categorical_columns].copy()\n",
        "\n",
        "OE=OrdinalEncoder()\n",
        "X_train[categorical_columns]=OE.fit_transform(X_train_plus)\n",
        "X_valid[categorical_columns]=OE.transform(X_valid_plus)\n",
        "\n",
        "# A function to measure dataset as regards preprocessing\n",
        "\n",
        "def score_dataset(X_train=X_train,X_valid=X_valid,y_train=y_train,y_valid=y_valid):\n",
        "  from sklearn.ensemble import RandomForestRegressor\n",
        "  model=RandomForestRegressor(n_estimators=100,random_state=0).fit(X_train,y_train)\n",
        "  preds=model.predict(X_valid)\n",
        "  from sklearn.metrics import mean_absolute_error\n",
        "  return mean_absolute_error(preds,y_valid)\n",
        "print('The mae using Ordinal Encoding :'.title(),score_dataset(X_train,X_valid,y_train,y_valid))"
      ],
      "execution_count": null,
      "outputs": [
        {
          "output_type": "stream",
          "name": "stderr",
          "text": [
            "/usr/local/lib/python3.7/dist-packages/ipykernel_launcher.py:6: SettingWithCopyWarning: \n",
            "A value is trying to be set on a copy of a slice from a DataFrame.\n",
            "Try using .loc[row_indexer,col_indexer] = value instead\n",
            "\n",
            "See the caveats in the documentation: https://pandas.pydata.org/pandas-docs/stable/user_guide/indexing.html#returning-a-view-versus-a-copy\n",
            "  \n",
            "/usr/local/lib/python3.7/dist-packages/pandas/core/indexing.py:1734: SettingWithCopyWarning: \n",
            "A value is trying to be set on a copy of a slice from a DataFrame.\n",
            "Try using .loc[row_indexer,col_indexer] = value instead\n",
            "\n",
            "See the caveats in the documentation: https://pandas.pydata.org/pandas-docs/stable/user_guide/indexing.html#returning-a-view-versus-a-copy\n",
            "  isetter(loc, value[:, i].tolist())\n",
            "/usr/local/lib/python3.7/dist-packages/ipykernel_launcher.py:7: SettingWithCopyWarning: \n",
            "A value is trying to be set on a copy of a slice from a DataFrame.\n",
            "Try using .loc[row_indexer,col_indexer] = value instead\n",
            "\n",
            "See the caveats in the documentation: https://pandas.pydata.org/pandas-docs/stable/user_guide/indexing.html#returning-a-view-versus-a-copy\n",
            "  import sys\n",
            "/usr/local/lib/python3.7/dist-packages/pandas/core/indexing.py:1734: SettingWithCopyWarning: \n",
            "A value is trying to be set on a copy of a slice from a DataFrame.\n",
            "Try using .loc[row_indexer,col_indexer] = value instead\n",
            "\n",
            "See the caveats in the documentation: https://pandas.pydata.org/pandas-docs/stable/user_guide/indexing.html#returning-a-view-versus-a-copy\n",
            "  isetter(loc, value[:, i].tolist())\n"
          ]
        },
        {
          "output_type": "stream",
          "name": "stdout",
          "text": [
            "The Mae Using Ordinal Encoding : 0.04306212914812407\n"
          ]
        }
      ]
    },
    {
      "cell_type": "code",
      "metadata": {
        "colab": {
          "base_uri": "https://localhost:8080/"
        },
        "id": "esLB8i6O36W8",
        "outputId": "55d4671c-0c9a-453b-eec6-427ebd649f2e"
      },
      "source": [
        "# one-hot Encoding \n",
        "from sklearn.preprocessing import OneHotEncoder\n",
        "X_train_dat=X_train[categorical_columns].copy()\n",
        "X_valid_dat=X_valid[categorical_columns].copy()\n",
        "\n",
        "OH=OneHotEncoder(handle_unknown='ignore',sparse=False)\n",
        "\n",
        "OHX_train=pd.DataFrame(OH.fit_transform(X_train_dat))\n",
        "OHX_valid=pd.DataFrame(OH.transform(X_valid_dat))\n",
        "\n",
        "# one hot encoding removes the index : return it \n",
        "OHX_train.index=X_train_dat.index\n",
        "OHX_valid.index=X_valid_dat.index\n",
        "\n",
        "# getting the numerical columns\n",
        "num_X_train=X_train.drop(categorical_columns,axis=1)\n",
        "num_X_valid=X_valid.drop(categorical_columns,axis=1)\n",
        "\n",
        "# combining the numerical and categorical data[after Onehotencoding]\n",
        "OHX_train_total=pd.concat([OHX_train,num_X_train],axis=1)\n",
        "OHX_valid_total=pd.concat([OHX_valid,num_X_valid],axis=1)\n",
        "\n",
        "print('The mae using ONE HOT Encoding :'.title(),score_dataset(OHX_train_total,OHX_valid_total,y_train,y_valid))"
      ],
      "execution_count": null,
      "outputs": [
        {
          "output_type": "stream",
          "name": "stdout",
          "text": [
            "The Mae Using One Hot Encoding : 0.04292285630948213\n"
          ]
        }
      ]
    },
    {
      "cell_type": "markdown",
      "metadata": {
        "id": "Wg-9N3jeCtXS"
      },
      "source": [
        "**INSIGHTS**\n",
        "- Both preprocessing method performed well but OneHotEncoder shows the lowest mae thus we use pipeline for fewer and cleaner codes with less bugs"
      ]
    },
    {
      "cell_type": "code",
      "metadata": {
        "colab": {
          "base_uri": "https://localhost:8080/"
        },
        "id": "t-XPx89cEDlw",
        "outputId": "473e7a37-f376-4005-ad40-d2f86c3809db"
      },
      "source": [
        "# PIPELINING \n",
        "from sklearn.pipeline import Pipeline\n",
        "from sklearn.compose import ColumnTransformer\n",
        "from sklearn.impute import SimpleImputer\n",
        "categorical_columns\n",
        "numerical_columns\n",
        "numerical_transformer=SimpleImputer(strategy='constant')\n",
        "categorical_transformer=Pipeline(steps=[('impute',SimpleImputer(strategy='most_frequent')),\n",
        "                                        ('onehot',OneHotEncoder(handle_unknown='ignore',sparse=False)),\n",
        "                                        \n",
        "])\n",
        "\n",
        "# bundle the transformers together \n",
        "preprocessor=ColumnTransformer(transformers=[('num',numerical_transformer,numerical_columns),\n",
        "                                             ('cat',categorical_transformer,categorical_columns)])\n",
        "    \n",
        "\n",
        "# bundle the model and the preprocessoer\n",
        "from sklearn.ensemble import RandomForestRegressor\n",
        "model=RandomForestRegressor(n_estimators=100,random_state=0)\n",
        "\n",
        "my_pipeline=Pipeline(steps=[('preprocessor',preprocessor),('model',model)])\n",
        "\n",
        "my_pipeline.fit(X_train,y_train)\n",
        "pipe_preds=my_pipeline.predict(X_valid)\n",
        "\n",
        "from sklearn.metrics import mean_absolute_error\n",
        "mean_absolute_error(pipe_preds,y_valid)"
      ],
      "execution_count": null,
      "outputs": [
        {
          "output_type": "execute_result",
          "data": {
            "text/plain": [
              "0.04274577328866443"
            ]
          },
          "metadata": {},
          "execution_count": 157
        }
      ]
    },
    {
      "cell_type": "code",
      "metadata": {
        "colab": {
          "base_uri": "https://localhost:8080/"
        },
        "id": "z-K0PXgjL6iY",
        "outputId": "6fdc106e-77b8-48d3-8f87-2382008a7f1e"
      },
      "source": [
        "# lets test our model on different data as its preprocess and fits it automatically \n",
        "my_pipeline.predict(X_test)"
      ],
      "execution_count": null,
      "outputs": [
        {
          "output_type": "execute_result",
          "data": {
            "text/plain": [
              "array([0.4388, 0.438 , 0.3944, ..., 0.7387, 0.7168, 0.3032])"
            ]
          },
          "metadata": {},
          "execution_count": 158
        }
      ]
    },
    {
      "cell_type": "code",
      "metadata": {
        "id": "Hbkg9OCqOIvP"
      },
      "source": [
        "result1=pd.DataFrame({'ID':X_valid.index,\n",
        "                      'predictions':pipe_preds})\n",
        "result2=pd.DataFrame({'ID_Xtest':X_test.index,\n",
        "                      'new_data_prediction':my_pipeline.predict(X_test)})\n"
      ],
      "execution_count": null,
      "outputs": []
    },
    {
      "cell_type": "code",
      "metadata": {
        "colab": {
          "base_uri": "https://localhost:8080/"
        },
        "id": "CarG2Ey9RE-d",
        "outputId": "47ad5219-52b0-44dd-8c9d-23b6a6cbfda6"
      },
      "source": [
        "point=[]\n",
        "for i in np.round(my_pipeline.predict(X_test),4):\n",
        "  if i in np.round(pipe_preds,4):\n",
        "    print\n",
        "    point.append(i)\n",
        "\n",
        "print('The no of benchmarking values :',len(point))\n",
        "np.array(point).reshape(271,6)"
      ],
      "execution_count": null,
      "outputs": [
        {
          "output_type": "stream",
          "name": "stdout",
          "text": [
            "The no of benchmarking values : 1626\n"
          ]
        },
        {
          "output_type": "execute_result",
          "data": {
            "text/plain": [
              "array([[0.3944, 0.4809, 0.4161, 0.8197, 0.4447, 0.3998],\n",
              "       [0.4254, 0.4087, 0.4032, 0.4283, 0.4245, 0.8234],\n",
              "       [0.419 , 0.3867, 0.4092, 0.432 , 0.8427, 0.3887],\n",
              "       ...,\n",
              "       [0.3946, 0.4061, 0.3727, 0.8492, 0.4035, 0.4329],\n",
              "       [0.8047, 0.3761, 0.3218, 0.404 , 0.4057, 0.4047],\n",
              "       [0.4134, 0.7626, 0.3852, 0.8188, 0.6578, 0.8017]])"
            ]
          },
          "metadata": {},
          "execution_count": 160
        }
      ]
    },
    {
      "cell_type": "code",
      "metadata": {
        "id": "BjXxnYcBWT2o"
      },
      "source": [
        "# to compare and spool out the features of the employees data that will leave next\n",
        "X_test_full['new_data_prediction']=np.round(my_pipeline.predict(X_test),2)\n",
        "X_test_compared=X_test_full.copy()"
      ],
      "execution_count": null,
      "outputs": []
    },
    {
      "cell_type": "code",
      "metadata": {
        "colab": {
          "base_uri": "https://localhost:8080/",
          "height": 131
        },
        "id": "LAZmqZUubGq0",
        "outputId": "16857b04-f871-407b-b396-cdd0f649a33d"
      },
      "source": [
        "X_test_compared.head(2)"
      ],
      "execution_count": null,
      "outputs": [
        {
          "output_type": "execute_result",
          "data": {
            "text/html": [
              "<div>\n",
              "<style scoped>\n",
              "    .dataframe tbody tr th:only-of-type {\n",
              "        vertical-align: middle;\n",
              "    }\n",
              "\n",
              "    .dataframe tbody tr th {\n",
              "        vertical-align: top;\n",
              "    }\n",
              "\n",
              "    .dataframe thead th {\n",
              "        text-align: right;\n",
              "    }\n",
              "</style>\n",
              "<table border=\"1\" class=\"dataframe\">\n",
              "  <thead>\n",
              "    <tr style=\"text-align: right;\">\n",
              "      <th></th>\n",
              "      <th>satisfaction_level</th>\n",
              "      <th>last_evaluation</th>\n",
              "      <th>number_project</th>\n",
              "      <th>average_montly_hours</th>\n",
              "      <th>time_spend_company</th>\n",
              "      <th>Work_accident</th>\n",
              "      <th>promotion_last_5years</th>\n",
              "      <th>dept</th>\n",
              "      <th>salary</th>\n",
              "      <th>new_data_prediction</th>\n",
              "    </tr>\n",
              "  </thead>\n",
              "  <tbody>\n",
              "    <tr>\n",
              "      <th>0</th>\n",
              "      <td>0.58</td>\n",
              "      <td>0.74</td>\n",
              "      <td>4</td>\n",
              "      <td>215</td>\n",
              "      <td>3</td>\n",
              "      <td>0</td>\n",
              "      <td>0</td>\n",
              "      <td>sales</td>\n",
              "      <td>low</td>\n",
              "      <td>0.44</td>\n",
              "    </tr>\n",
              "    <tr>\n",
              "      <th>1</th>\n",
              "      <td>0.82</td>\n",
              "      <td>0.67</td>\n",
              "      <td>2</td>\n",
              "      <td>202</td>\n",
              "      <td>3</td>\n",
              "      <td>0</td>\n",
              "      <td>0</td>\n",
              "      <td>sales</td>\n",
              "      <td>low</td>\n",
              "      <td>0.44</td>\n",
              "    </tr>\n",
              "  </tbody>\n",
              "</table>\n",
              "</div>"
            ],
            "text/plain": [
              "   satisfaction_level  last_evaluation  ...  salary  new_data_prediction\n",
              "0                0.58             0.74  ...     low                 0.44\n",
              "1                0.82             0.67  ...     low                 0.44\n",
              "\n",
              "[2 rows x 10 columns]"
            ]
          },
          "metadata": {},
          "execution_count": 162
        }
      ]
    },
    {
      "cell_type": "code",
      "metadata": {
        "id": "O-y1U4GObIcU"
      },
      "source": [
        "X_test_compared['Leaving/Not']=np.where(X_test_compared['satisfaction_level']==X_test_compared['new_data_prediction'],'Yes','No')"
      ],
      "execution_count": null,
      "outputs": []
    },
    {
      "cell_type": "code",
      "metadata": {
        "id": "ZZUre1OGcbnI"
      },
      "source": [
        "employees_leaving_next=X_test_compared[X_test_compared['Leaving/Not'].values=='Yes']"
      ],
      "execution_count": null,
      "outputs": []
    },
    {
      "cell_type": "code",
      "metadata": {
        "colab": {
          "base_uri": "https://localhost:8080/",
          "height": 439
        },
        "id": "1PfA92LVdT43",
        "outputId": "a0c9d121-2f9d-4c81-cea9-fa66019b9072"
      },
      "source": [
        "employees_leaving_next"
      ],
      "execution_count": null,
      "outputs": [
        {
          "output_type": "execute_result",
          "data": {
            "text/html": [
              "<div>\n",
              "<style scoped>\n",
              "    .dataframe tbody tr th:only-of-type {\n",
              "        vertical-align: middle;\n",
              "    }\n",
              "\n",
              "    .dataframe tbody tr th {\n",
              "        vertical-align: top;\n",
              "    }\n",
              "\n",
              "    .dataframe thead th {\n",
              "        text-align: right;\n",
              "    }\n",
              "</style>\n",
              "<table border=\"1\" class=\"dataframe\">\n",
              "  <thead>\n",
              "    <tr style=\"text-align: right;\">\n",
              "      <th></th>\n",
              "      <th>satisfaction_level</th>\n",
              "      <th>last_evaluation</th>\n",
              "      <th>number_project</th>\n",
              "      <th>average_montly_hours</th>\n",
              "      <th>time_spend_company</th>\n",
              "      <th>Work_accident</th>\n",
              "      <th>promotion_last_5years</th>\n",
              "      <th>dept</th>\n",
              "      <th>salary</th>\n",
              "      <th>new_data_prediction</th>\n",
              "      <th>Leaving/Not</th>\n",
              "    </tr>\n",
              "  </thead>\n",
              "  <tbody>\n",
              "    <tr>\n",
              "      <th>192</th>\n",
              "      <td>0.64</td>\n",
              "      <td>0.58</td>\n",
              "      <td>5</td>\n",
              "      <td>115</td>\n",
              "      <td>5</td>\n",
              "      <td>0</td>\n",
              "      <td>0</td>\n",
              "      <td>support</td>\n",
              "      <td>low</td>\n",
              "      <td>0.64</td>\n",
              "      <td>Yes</td>\n",
              "    </tr>\n",
              "    <tr>\n",
              "      <th>273</th>\n",
              "      <td>0.63</td>\n",
              "      <td>0.93</td>\n",
              "      <td>4</td>\n",
              "      <td>201</td>\n",
              "      <td>3</td>\n",
              "      <td>0</td>\n",
              "      <td>0</td>\n",
              "      <td>IT</td>\n",
              "      <td>low</td>\n",
              "      <td>0.63</td>\n",
              "      <td>Yes</td>\n",
              "    </tr>\n",
              "    <tr>\n",
              "      <th>388</th>\n",
              "      <td>0.72</td>\n",
              "      <td>0.51</td>\n",
              "      <td>3</td>\n",
              "      <td>235</td>\n",
              "      <td>2</td>\n",
              "      <td>0</td>\n",
              "      <td>0</td>\n",
              "      <td>sales</td>\n",
              "      <td>low</td>\n",
              "      <td>0.72</td>\n",
              "      <td>Yes</td>\n",
              "    </tr>\n",
              "    <tr>\n",
              "      <th>524</th>\n",
              "      <td>0.65</td>\n",
              "      <td>0.67</td>\n",
              "      <td>5</td>\n",
              "      <td>128</td>\n",
              "      <td>5</td>\n",
              "      <td>0</td>\n",
              "      <td>0</td>\n",
              "      <td>marketing</td>\n",
              "      <td>medium</td>\n",
              "      <td>0.65</td>\n",
              "      <td>Yes</td>\n",
              "    </tr>\n",
              "    <tr>\n",
              "      <th>565</th>\n",
              "      <td>0.48</td>\n",
              "      <td>0.67</td>\n",
              "      <td>5</td>\n",
              "      <td>273</td>\n",
              "      <td>3</td>\n",
              "      <td>0</td>\n",
              "      <td>0</td>\n",
              "      <td>support</td>\n",
              "      <td>medium</td>\n",
              "      <td>0.48</td>\n",
              "      <td>Yes</td>\n",
              "    </tr>\n",
              "    <tr>\n",
              "      <th>...</th>\n",
              "      <td>...</td>\n",
              "      <td>...</td>\n",
              "      <td>...</td>\n",
              "      <td>...</td>\n",
              "      <td>...</td>\n",
              "      <td>...</td>\n",
              "      <td>...</td>\n",
              "      <td>...</td>\n",
              "      <td>...</td>\n",
              "      <td>...</td>\n",
              "      <td>...</td>\n",
              "    </tr>\n",
              "    <tr>\n",
              "      <th>10914</th>\n",
              "      <td>0.68</td>\n",
              "      <td>0.99</td>\n",
              "      <td>3</td>\n",
              "      <td>159</td>\n",
              "      <td>2</td>\n",
              "      <td>0</td>\n",
              "      <td>0</td>\n",
              "      <td>accounting</td>\n",
              "      <td>medium</td>\n",
              "      <td>0.68</td>\n",
              "      <td>Yes</td>\n",
              "    </tr>\n",
              "    <tr>\n",
              "      <th>11050</th>\n",
              "      <td>0.70</td>\n",
              "      <td>0.68</td>\n",
              "      <td>5</td>\n",
              "      <td>225</td>\n",
              "      <td>7</td>\n",
              "      <td>0</td>\n",
              "      <td>0</td>\n",
              "      <td>sales</td>\n",
              "      <td>medium</td>\n",
              "      <td>0.70</td>\n",
              "      <td>Yes</td>\n",
              "    </tr>\n",
              "    <tr>\n",
              "      <th>11171</th>\n",
              "      <td>0.79</td>\n",
              "      <td>0.86</td>\n",
              "      <td>5</td>\n",
              "      <td>238</td>\n",
              "      <td>8</td>\n",
              "      <td>0</td>\n",
              "      <td>0</td>\n",
              "      <td>sales</td>\n",
              "      <td>low</td>\n",
              "      <td>0.79</td>\n",
              "      <td>Yes</td>\n",
              "    </tr>\n",
              "    <tr>\n",
              "      <th>11185</th>\n",
              "      <td>0.73</td>\n",
              "      <td>0.78</td>\n",
              "      <td>3</td>\n",
              "      <td>262</td>\n",
              "      <td>7</td>\n",
              "      <td>1</td>\n",
              "      <td>1</td>\n",
              "      <td>management</td>\n",
              "      <td>high</td>\n",
              "      <td>0.73</td>\n",
              "      <td>Yes</td>\n",
              "    </tr>\n",
              "    <tr>\n",
              "      <th>11205</th>\n",
              "      <td>0.34</td>\n",
              "      <td>0.72</td>\n",
              "      <td>3</td>\n",
              "      <td>118</td>\n",
              "      <td>4</td>\n",
              "      <td>0</td>\n",
              "      <td>0</td>\n",
              "      <td>IT</td>\n",
              "      <td>low</td>\n",
              "      <td>0.34</td>\n",
              "      <td>Yes</td>\n",
              "    </tr>\n",
              "  </tbody>\n",
              "</table>\n",
              "<p>143 rows × 11 columns</p>\n",
              "</div>"
            ],
            "text/plain": [
              "       satisfaction_level  last_evaluation  ...  new_data_prediction  Leaving/Not\n",
              "192                  0.64             0.58  ...                 0.64          Yes\n",
              "273                  0.63             0.93  ...                 0.63          Yes\n",
              "388                  0.72             0.51  ...                 0.72          Yes\n",
              "524                  0.65             0.67  ...                 0.65          Yes\n",
              "565                  0.48             0.67  ...                 0.48          Yes\n",
              "...                   ...              ...  ...                  ...          ...\n",
              "10914                0.68             0.99  ...                 0.68          Yes\n",
              "11050                0.70             0.68  ...                 0.70          Yes\n",
              "11171                0.79             0.86  ...                 0.79          Yes\n",
              "11185                0.73             0.78  ...                 0.73          Yes\n",
              "11205                0.34             0.72  ...                 0.34          Yes\n",
              "\n",
              "[143 rows x 11 columns]"
            ]
          },
          "metadata": {},
          "execution_count": 165
        }
      ]
    },
    {
      "cell_type": "code",
      "metadata": {
        "id": "celDFMKMiCa8",
        "colab": {
          "base_uri": "https://localhost:8080/"
        },
        "outputId": "ed58eaf5-9276-41c6-b73b-d12ed95c5286"
      },
      "source": [
        "# determing which features are most important to our model\n",
        "# install and import eli5\n",
        "!pip install eli5"
      ],
      "execution_count": null,
      "outputs": [
        {
          "output_type": "stream",
          "name": "stdout",
          "text": [
            "Requirement already satisfied: eli5 in /usr/local/lib/python3.7/dist-packages (0.11.0)\n",
            "Requirement already satisfied: scipy in /usr/local/lib/python3.7/dist-packages (from eli5) (1.4.1)\n",
            "Requirement already satisfied: tabulate>=0.7.7 in /usr/local/lib/python3.7/dist-packages (from eli5) (0.8.9)\n",
            "Requirement already satisfied: numpy>=1.9.0 in /usr/local/lib/python3.7/dist-packages (from eli5) (1.19.5)\n",
            "Requirement already satisfied: graphviz in /usr/local/lib/python3.7/dist-packages (from eli5) (0.10.1)\n",
            "Requirement already satisfied: scikit-learn>=0.20 in /usr/local/lib/python3.7/dist-packages (from eli5) (0.22.2.post1)\n",
            "Requirement already satisfied: attrs>16.0.0 in /usr/local/lib/python3.7/dist-packages (from eli5) (21.2.0)\n",
            "Requirement already satisfied: jinja2 in /usr/local/lib/python3.7/dist-packages (from eli5) (2.11.3)\n",
            "Requirement already satisfied: six in /usr/local/lib/python3.7/dist-packages (from eli5) (1.15.0)\n",
            "Requirement already satisfied: joblib>=0.11 in /usr/local/lib/python3.7/dist-packages (from scikit-learn>=0.20->eli5) (1.1.0)\n",
            "Requirement already satisfied: MarkupSafe>=0.23 in /usr/local/lib/python3.7/dist-packages (from jinja2->eli5) (2.0.1)\n"
          ]
        }
      ]
    },
    {
      "cell_type": "code",
      "metadata": {
        "colab": {
          "base_uri": "https://localhost:8080/",
          "height": 170
        },
        "id": "3dddSd6mjG6Z",
        "outputId": "18e45467-338b-4a1a-84e6-26ea38029fed"
      },
      "source": [
        "import eli5\n",
        "from eli5.sklearn import PermutationImportance\n",
        "perm=PermutationImportance(my_pipeline,random_state=1).fit(X_valid,y_valid)\n",
        "eli5.show_weights(perm,feature_names=X_valid.columns.tolist())"
      ],
      "execution_count": null,
      "outputs": [
        {
          "output_type": "execute_result",
          "data": {
            "text/html": [
              "\n",
              "    <style>\n",
              "    table.eli5-weights tr:hover {\n",
              "        filter: brightness(85%);\n",
              "    }\n",
              "</style>\n",
              "\n",
              "\n",
              "\n",
              "    \n",
              "\n",
              "    \n",
              "\n",
              "    \n",
              "\n",
              "    \n",
              "\n",
              "    \n",
              "\n",
              "    \n",
              "\n",
              "\n",
              "    \n",
              "\n",
              "    \n",
              "\n",
              "    \n",
              "\n",
              "    \n",
              "\n",
              "    \n",
              "\n",
              "    \n",
              "\n",
              "\n",
              "    \n",
              "\n",
              "    \n",
              "\n",
              "    \n",
              "\n",
              "    \n",
              "\n",
              "    \n",
              "        <table class=\"eli5-weights eli5-feature-importances\" style=\"border-collapse: collapse; border: none; margin-top: 0em; table-layout: auto;\">\n",
              "    <thead>\n",
              "    <tr style=\"border: none;\">\n",
              "        <th style=\"padding: 0 1em 0 0.5em; text-align: right; border: none;\">Weight</th>\n",
              "        <th style=\"padding: 0 0.5em 0 0.5em; text-align: left; border: none;\">Feature</th>\n",
              "    </tr>\n",
              "    </thead>\n",
              "    <tbody>\n",
              "    \n",
              "        <tr style=\"background-color: hsl(120, 100.00%, 80.00%); border: none;\">\n",
              "            <td style=\"padding: 0 1em 0 0.5em; text-align: right; border: none;\">\n",
              "                0.6851\n",
              "                \n",
              "                    &plusmn; 0.0335\n",
              "                \n",
              "            </td>\n",
              "            <td style=\"padding: 0 0.5em 0 0.5em; text-align: left; border: none;\">\n",
              "                number_project\n",
              "            </td>\n",
              "        </tr>\n",
              "    \n",
              "        <tr style=\"background-color: hsl(120, 100.00%, 83.48%); border: none;\">\n",
              "            <td style=\"padding: 0 1em 0 0.5em; text-align: right; border: none;\">\n",
              "                0.5214\n",
              "                \n",
              "                    &plusmn; 0.0196\n",
              "                \n",
              "            </td>\n",
              "            <td style=\"padding: 0 0.5em 0 0.5em; text-align: left; border: none;\">\n",
              "                time_spend_company\n",
              "            </td>\n",
              "        </tr>\n",
              "    \n",
              "        <tr style=\"background-color: hsl(120, 100.00%, 85.17%); border: none;\">\n",
              "            <td style=\"padding: 0 1em 0 0.5em; text-align: right; border: none;\">\n",
              "                0.4469\n",
              "                \n",
              "                    &plusmn; 0.0069\n",
              "                \n",
              "            </td>\n",
              "            <td style=\"padding: 0 0.5em 0 0.5em; text-align: left; border: none;\">\n",
              "                average_montly_hours\n",
              "            </td>\n",
              "        </tr>\n",
              "    \n",
              "        <tr style=\"background-color: hsl(120, 100.00%, 90.39%); border: none;\">\n",
              "            <td style=\"padding: 0 1em 0 0.5em; text-align: right; border: none;\">\n",
              "                0.2404\n",
              "                \n",
              "                    &plusmn; 0.0112\n",
              "                \n",
              "            </td>\n",
              "            <td style=\"padding: 0 0.5em 0 0.5em; text-align: left; border: none;\">\n",
              "                last_evaluation\n",
              "            </td>\n",
              "        </tr>\n",
              "    \n",
              "        <tr style=\"background-color: hsl(120, 100.00%, 99.69%); border: none;\">\n",
              "            <td style=\"padding: 0 1em 0 0.5em; text-align: right; border: none;\">\n",
              "                0.0018\n",
              "                \n",
              "                    &plusmn; 0.0018\n",
              "                \n",
              "            </td>\n",
              "            <td style=\"padding: 0 0.5em 0 0.5em; text-align: left; border: none;\">\n",
              "                dept\n",
              "            </td>\n",
              "        </tr>\n",
              "    \n",
              "        <tr style=\"background-color: hsl(120, 100.00%, 99.95%); border: none;\">\n",
              "            <td style=\"padding: 0 1em 0 0.5em; text-align: right; border: none;\">\n",
              "                0.0001\n",
              "                \n",
              "                    &plusmn; 0.0001\n",
              "                \n",
              "            </td>\n",
              "            <td style=\"padding: 0 0.5em 0 0.5em; text-align: left; border: none;\">\n",
              "                Work_accident\n",
              "            </td>\n",
              "        </tr>\n",
              "    \n",
              "        <tr style=\"background-color: hsl(120, 100.00%, 99.99%); border: none;\">\n",
              "            <td style=\"padding: 0 1em 0 0.5em; text-align: right; border: none;\">\n",
              "                0.0000\n",
              "                \n",
              "                    &plusmn; 0.0000\n",
              "                \n",
              "            </td>\n",
              "            <td style=\"padding: 0 0.5em 0 0.5em; text-align: left; border: none;\">\n",
              "                promotion_last_5years\n",
              "            </td>\n",
              "        </tr>\n",
              "    \n",
              "        <tr style=\"background-color: hsl(0, 100.00%, 99.93%); border: none;\">\n",
              "            <td style=\"padding: 0 1em 0 0.5em; text-align: right; border: none;\">\n",
              "                -0.0002\n",
              "                \n",
              "                    &plusmn; 0.0009\n",
              "                \n",
              "            </td>\n",
              "            <td style=\"padding: 0 0.5em 0 0.5em; text-align: left; border: none;\">\n",
              "                salary\n",
              "            </td>\n",
              "        </tr>\n",
              "    \n",
              "    \n",
              "    </tbody>\n",
              "</table>\n",
              "    \n",
              "\n",
              "    \n",
              "\n",
              "\n",
              "    \n",
              "\n",
              "    \n",
              "\n",
              "    \n",
              "\n",
              "    \n",
              "\n",
              "    \n",
              "\n",
              "    \n",
              "\n",
              "\n",
              "\n"
            ],
            "text/plain": [
              "<IPython.core.display.HTML object>"
            ]
          },
          "metadata": {},
          "execution_count": 167
        }
      ]
    },
    {
      "cell_type": "code",
      "metadata": {
        "colab": {
          "base_uri": "https://localhost:8080/",
          "height": 779
        },
        "id": "B55j2SttglH0",
        "outputId": "4a716eb9-e476-4801-9b4e-db6cdb01a239"
      },
      "source": [
        "# VISUALIZATIONS OF THE EXISTING-EMPLOYEES PREDICTED TO LEAVE SOONEST\n",
        "sns.set()\n",
        "plt.figure(figsize=[10,10])\n",
        "ax=subplot(3,1,1)\n",
        "sns.regplot(employees_leaving_next['satisfaction_level'],employees_leaving_next['last_evaluation'],color='m')\n",
        "ax.set_title('Last Evaluation VS Satisfaction Level ')\n",
        "ax=subplot(3,1,2)\n",
        "sns.histplot(employees_leaving_next['satisfaction_level'],kde=True,color='g')\n",
        "ax=subplot(3,1,3)\n",
        "sns.histplot(employees_leaving_next['last_evaluation'],kde=True,color='r')\n",
        "plt.tight_layout()\n",
        "plt.show()"
      ],
      "execution_count": null,
      "outputs": [
        {
          "output_type": "stream",
          "name": "stderr",
          "text": [
            "/usr/local/lib/python3.7/dist-packages/seaborn/_decorators.py:43: FutureWarning: Pass the following variables as keyword args: x, y. From version 0.12, the only valid positional argument will be `data`, and passing other arguments without an explicit keyword will result in an error or misinterpretation.\n",
            "  FutureWarning\n"
          ]
        },
        {
          "output_type": "display_data",
          "data": {
            "image/png": "[encoded data removed]",
            "text/plain": [
              "<Figure size 720x720 with 3 Axes>"
            ]
          },
          "metadata": {}
        }
      ]
    },
    {
      "cell_type": "code",
      "metadata": {
        "colab": {
          "base_uri": "https://localhost:8080/",
          "height": 1000
        },
        "id": "Hjrl6gDmo_oz",
        "outputId": "afba2da9-a69a-452d-cca9-0d4dafbc9310"
      },
      "source": [
        "num_data=employees_leaving_next.select_dtypes(exclude='object')\n",
        "num_data.drop('new_data_prediction',axis=1,inplace=True)\n",
        "plt.figure(figsize=[20,20])\n",
        "sns.set()\n",
        "for i,col in list(enumerate(num_data)):\n",
        "  ax=plt.subplot(3,3,i+1)\n",
        "  sns.countplot(num_data[col],hue=employees_leaving_next['salary'],palette='afmhot')\n",
        "\n",
        "  plt.tight_layout\n",
        "plt.show()"
      ],
      "execution_count": null,
      "outputs": [
        {
          "output_type": "stream",
          "name": "stderr",
          "text": [
            "/usr/local/lib/python3.7/dist-packages/pandas/core/frame.py:4174: SettingWithCopyWarning: \n",
            "A value is trying to be set on a copy of a slice from a DataFrame\n",
            "\n",
            "See the caveats in the documentation: https://pandas.pydata.org/pandas-docs/stable/user_guide/indexing.html#returning-a-view-versus-a-copy\n",
            "  errors=errors,\n",
            "/usr/local/lib/python3.7/dist-packages/seaborn/_decorators.py:43: FutureWarning: Pass the following variable as a keyword arg: x. From version 0.12, the only valid positional argument will be `data`, and passing other arguments without an explicit keyword will result in an error or misinterpretation.\n",
            "  FutureWarning\n",
            "/usr/local/lib/python3.7/dist-packages/seaborn/_decorators.py:43: FutureWarning: Pass the following variable as a keyword arg: x. From version 0.12, the only valid positional argument will be `data`, and passing other arguments without an explicit keyword will result in an error or misinterpretation.\n",
            "  FutureWarning\n",
            "/usr/local/lib/python3.7/dist-packages/seaborn/_decorators.py:43: FutureWarning: Pass the following variable as a keyword arg: x. From version 0.12, the only valid positional argument will be `data`, and passing other arguments without an explicit keyword will result in an error or misinterpretation.\n",
            "  FutureWarning\n",
            "/usr/local/lib/python3.7/dist-packages/seaborn/_decorators.py:43: FutureWarning: Pass the following variable as a keyword arg: x. From version 0.12, the only valid positional argument will be `data`, and passing other arguments without an explicit keyword will result in an error or misinterpretation.\n",
            "  FutureWarning\n",
            "/usr/local/lib/python3.7/dist-packages/seaborn/_decorators.py:43: FutureWarning: Pass the following variable as a keyword arg: x. From version 0.12, the only valid positional argument will be `data`, and passing other arguments without an explicit keyword will result in an error or misinterpretation.\n",
            "  FutureWarning\n",
            "/usr/local/lib/python3.7/dist-packages/seaborn/_decorators.py:43: FutureWarning: Pass the following variable as a keyword arg: x. From version 0.12, the only valid positional argument will be `data`, and passing other arguments without an explicit keyword will result in an error or misinterpretation.\n",
            "  FutureWarning\n",
            "/usr/local/lib/python3.7/dist-packages/seaborn/_decorators.py:43: FutureWarning: Pass the following variable as a keyword arg: x. From version 0.12, the only valid positional argument will be `data`, and passing other arguments without an explicit keyword will result in an error or misinterpretation.\n",
            "  FutureWarning\n"
          ]
        },
        {
          "output_type": "display_data",
          "data": {
            "image/png": "[encoded data removed]",
            "text/plain": [
              "<Figure size 1440x1440 with 7 Axes>"
            ]
          },
          "metadata": {}
        }
      ]
    },
    {
      "cell_type": "code",
      "metadata": {
        "id": "7nl0seC56ZsE"
      },
      "source": [
        "#storing the employees leaving next data in a csv file \n",
        "employees_leaving_next.to_csv('Employees Leaving Next.csv')"
      ],
      "execution_count": 171,
      "outputs": []
    },
    {
      "cell_type": "code",
      "metadata": {
        "id": "XGrZ8mvl6bgK"
      },
      "source": [
        ""
      ],
      "execution_count": null,
      "outputs": []
    }
  ]
}